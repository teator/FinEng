{
  "nbformat": 4,
  "nbformat_minor": 0,
  "metadata": {
    "colab": {
      "provenance": [],
      "toc_visible": true,
      "authorship_tag": "ABX9TyNpAJMQ+t6oRpt8jn1OwT9X",
      "include_colab_link": true
    },
    "kernelspec": {
      "name": "python3",
      "display_name": "Python 3"
    }
  },
  "cells": [
    {
      "cell_type": "markdown",
      "metadata": {
        "id": "view-in-github",
        "colab_type": "text"
      },
      "source": [
        "<a href=\"https://colab.research.google.com/github/teator/FinEng/blob/main/Capstone/WQU_capstone_Using_VIX_Based_RSI_Measures_to_Time_Markets_(Quantopian_version).ipynb\" target=\"_parent\"><img src=\"https://colab.research.google.com/assets/colab-badge.svg\" alt=\"Open In Colab\"/></a>"
      ]
    },
    {
      "cell_type": "code",
      "metadata": {
        "id": "p7XYeD6Lrwkw"
      },
      "source": [],
      "execution_count": null,
      "outputs": []
    },
    {
      "cell_type": "markdown",
      "metadata": {
        "id": "92ab0g0vOzqS"
      },
      "source": [
        "---   ---   ---   ---   ---   ---   ---\n",
        "## WorldQuant University :-: MScFE (C18-S4)\n",
        "## WQU capstone: Using VIX Based RSI Measures to Time Markets\n",
        "\n",
        "Tea Toradze\n",
        "\n",
        "June-August 2020\n",
        "---   ---   ---   ---   ---   ---   ---"
      ]
    },
    {
      "cell_type": "code",
      "metadata": {
        "id": "INbqu-sLMe5k"
      },
      "source": [],
      "execution_count": null,
      "outputs": []
    },
    {
      "cell_type": "code",
      "metadata": {
        "id": "Av4xGaUaExs5"
      },
      "source": [
        "# Libraries\n",
        "import numpy as np\n",
        "from quantopian.pipeline import Pipeline, CustomFilter\n",
        "from quantopian.algorithm import attach_pipeline, pipeline_output\n",
        "from quantopian.pipeline.data.quandl import cboe_vix\n",
        "from quantopian.pipeline.factors import RSI, SimpleMovingAverage, Latest\n",
        "from quantopian.pipeline.data.builtin import USEquityPricing\n",
        "from quantopian.pipeline.data import morningstar\n",
        "\n",
        "\n",
        "\n",
        "'''\n",
        "The VIX RSI trading system as per Connors, L. and Alvarez, C.(2008) also described in:\n",
        "http://systemtradersuccess.com/vix-rsi/\n",
        "\n",
        "The Rules\n",
        "1. Price must be above its 200-day moving average\n",
        "2. RSI(2) on price must be below 35\n",
        "3. Buy when RSI(2) of the VIX is above 65\n",
        "4. Exit when RSI(2) of the price rises above 65\n",
        "\n",
        "\n",
        "Opposite Rules for short (SELL):\n",
        "1. Price must be below its 200-day moving average\n",
        "2. RSI(2) on price must be above 65\n",
        "3. Sell when RSI(2) of the VIX is below 35\n",
        "4. Exit when the RSI(2) of the price drops below 35\n",
        "'''\n",
        "\n",
        "\n",
        "## Initialise SPY securities\n",
        "def initialize(context):\n",
        "    context.spy = symbol('SPY')\n",
        "\n",
        "    context.invested = False\n",
        "    context.leverage = 1.95\n",
        "    context.short = False\n",
        "\n",
        "    schedule_function(trade, date_rules.every_day(), time_rules.market_open())\n",
        "\n",
        "    attach_pipeline(my_pipeline(context), 'my_pipeline')\n",
        "\n",
        "\n",
        "## The main pipeline to build RSI, Moving Average and VIX RSI data\n",
        "def my_pipeline(context):\n",
        "\n",
        "    spy_filter = SidInList(sid_list = (\n",
        "            context.spy.sid,\n",
        "            )\n",
        "        )\n",
        "\n",
        "    close = Latest(\n",
        "            inputs=[USEquityPricing.close],\n",
        "            mask = spy_filter,\n",
        "        )\n",
        "\n",
        "    ma_200 = SimpleMovingAverage(\n",
        "            inputs = [USEquityPricing.close],\n",
        "            window_length = 200,\n",
        "            mask = spy_filter,\n",
        "        )\n",
        "\n",
        "    rsi_2 = RSI(\n",
        "            inputs = [USEquityPricing.close],\n",
        "            window_length = 2,\n",
        "            mask = spy_filter,\n",
        "        )\n",
        "\n",
        "    vix_rsi_2 = RSI(\n",
        "            inputs = [cboe_vix.vix_close],\n",
        "            window_length = 2,\n",
        "            mask = spy_filter,\n",
        "        )\n",
        "\n",
        "    pipe = Pipeline()\n",
        "\n",
        "    pipe.add(close, 'close')\n",
        "    pipe.add(ma_200, 'ma_200')\n",
        "    pipe.add(rsi_2, 'rsi_2')\n",
        "    pipe.add(vix_rsi_2, 'vix_rsi_2')\n",
        "\n",
        "    pipe.set_screen(spy_filter)\n",
        "\n",
        "    return pipe\n",
        "\n",
        "\n",
        "## Simulate trade function\n",
        "def trade (context, data):\n",
        "\n",
        "    results = pipeline_output('my_pipeline')\n",
        "\n",
        "    spy = context.spy\n",
        "    spy_close = results.loc[spy].close\n",
        "    spy_ma200 = results.loc[spy].ma_200\n",
        "    spy_rsi = results.loc[spy].rsi_2\n",
        "\n",
        "    vix_rsi = results.iloc[0].vix_rsi_2\n",
        "\n",
        "\n",
        "    if not context.invested:\n",
        "        if vix_rsi > 65 and spy_rsi < 35 and spy_close > spy_ma200:\n",
        "            order_target_percent(spy, context.leverage)\n",
        "            context.invested = True\n",
        "            context.short = False\n",
        "        elif vix_rsi < 35 and spy_rsi > 65 and spy_close < spy_ma200:\n",
        "            order_target_percent(spy, -context.leverage)\n",
        "            context.invested = True\n",
        "            context.short = True\n",
        "    else:\n",
        "        if (context.short and spy_rsi < 35 and vix_rsi > 10) or (not context.short and spy_rsi > 65 and vix_rsi < 10):\n",
        "            order_target(spy, 0)\n",
        "            context.invested = False\n",
        "\n",
        "\n",
        "    # Record algo results:\n",
        "    if context.invested:\n",
        "        if context.short:\n",
        "            position = -100.0\n",
        "        else:\n",
        "            position = 100.0\n",
        "    else:\n",
        "        position = 0.0\n",
        "\n",
        "    record(vix_rsi = vix_rsi,\n",
        "           spy_rsi = spy_rsi,\n",
        "           spy_ma200 = spy_ma200,\n",
        "           spy = spy_close,\n",
        "           pos = position,\n",
        "          )\n",
        "\n",
        "\n",
        "## Custom filter (\n",
        "class SidInList(CustomFilter):\n",
        "    inputs = []\n",
        "    window_length = 1\n",
        "    params = ('sid_list',)\n",
        "\n",
        "    def compute(self, today, assets, out, sid_list):\n",
        "        out[:] = np.in1d(assets, sid_list)\n",
        "\n"
      ],
      "execution_count": null,
      "outputs": []
    },
    {
      "cell_type": "code",
      "metadata": {
        "id": "Y4s6BeTUExp1"
      },
      "source": [],
      "execution_count": null,
      "outputs": []
    },
    {
      "cell_type": "code",
      "metadata": {
        "id": "8GDC0OVkExmy"
      },
      "source": [
        "## Tear sheet\n",
        "bt = get_backtest('5f20799f2fd87446ba870f7e')\n",
        "bt.create_full_tear_sheet()\n",
        "\n"
      ],
      "execution_count": null,
      "outputs": []
    },
    {
      "cell_type": "code",
      "metadata": {
        "id": "S5J2N6-kFSQQ"
      },
      "source": [],
      "execution_count": null,
      "outputs": []
    },
    {
      "cell_type": "code",
      "metadata": {
        "id": "vWct6GFMFSN6"
      },
      "source": [],
      "execution_count": null,
      "outputs": []
    }
  ]
}